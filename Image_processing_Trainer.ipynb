{
 "cells": [
  {
   "cell_type": "code",
   "execution_count": 47,
   "metadata": {},
   "outputs": [],
   "source": [
    "from keras.datasets import cifar10\n",
    "from PIL import Image\n",
    "import matplotlib.pyplot as plt\n",
    "from keras.utils import np_utils\n",
    "from keras.models import Sequential\n",
    "from keras.layers import Dense, Dropout, Flatten\n",
    "from keras.layers.convolutional import Conv2D, MaxPooling2D\n",
    "from keras.optimizers import SGD\n",
    "from keras.constraints import maxnorm\n",
    "import h5py\n",
    "\n",
    "labels = ['aeroplane', 'automobile', 'bird', 'cat', 'deer', 'dog',\n",
    "          'Frog', 'horse', 'ship', 'truck']"
   ]
  },
  {
   "cell_type": "code",
   "execution_count": 48,
   "metadata": {},
   "outputs": [],
   "source": [
    "(X_train, y_train), (X_test, y_test) = cifar10.load_data()"
   ]
  },
  {
   "cell_type": "code",
   "execution_count": 49,
   "metadata": {},
   "outputs": [
    {
     "name": "stdout",
     "output_type": "stream",
     "text": [
      "Enter Image number: 15\n"
     ]
    }
   ],
   "source": [
    "index = int(input('Enter Image number: '))\n",
    "display_image = X_train[index]\n",
    "display_label = y_train[index][0]"
   ]
  },
  {
   "cell_type": "code",
   "execution_count": 50,
   "metadata": {},
   "outputs": [],
   "source": [
    "new_X_train = X_train.astype('float32')\n",
    "new_X_test = X_test.astype('float32')\n",
    "new_X_train /= 255\n",
    "new_X_test /= 255\n",
    "\n",
    "new_y_train = np_utils.to_categorical(y_train)\n",
    "new_y_test = np_utils.to_categorical(y_test)"
   ]
  },
  {
   "cell_type": "code",
   "execution_count": 58,
   "metadata": {},
   "outputs": [
    {
     "name": "stdout",
     "output_type": "stream",
     "text": [
      "Epoch 1/10\n",
      "50000/50000 [==============================] - 161s 3ms/step - loss: 1.9188 - accuracy: 0.3128\n",
      "Epoch 2/10\n",
      "50000/50000 [==============================] - 160s 3ms/step - loss: 1.6249 - accuracy: 0.4230\n",
      "Epoch 3/10\n",
      "50000/50000 [==============================] - 157s 3ms/step - loss: 1.4583 - accuracy: 0.4786\n",
      "Epoch 4/10\n",
      "50000/50000 [==============================] - 150s 3ms/step - loss: 1.3597 - accuracy: 0.5161\n",
      "Epoch 5/10\n",
      "50000/50000 [==============================] - 140s 3ms/step - loss: 1.2917 - accuracy: 0.5411\n",
      "Epoch 6/10\n",
      "50000/50000 [==============================] - 125s 2ms/step - loss: 1.2322 - accuracy: 0.5644\n",
      "Epoch 7/10\n",
      "50000/50000 [==============================] - 124s 2ms/step - loss: 1.1849 - accuracy: 0.5791\n",
      "Epoch 8/10\n",
      "50000/50000 [==============================] - 126s 3ms/step - loss: 1.1468 - accuracy: 0.5947\n",
      "Epoch 9/10\n",
      "50000/50000 [==============================] - 127s 3ms/step - loss: 1.1057 - accuracy: 0.6114\n",
      "Epoch 10/10\n",
      "50000/50000 [==============================] - 124s 2ms/step - loss: 1.0706 - accuracy: 0.6224\n"
     ]
    },
    {
     "data": {
      "text/plain": [
       "<keras.callbacks.callbacks.History at 0x27a5a54bdc8>"
      ]
     },
     "execution_count": 58,
     "metadata": {},
     "output_type": "execute_result"
    }
   ],
   "source": [
    "model = Sequential()\n",
    "model.add(Conv2D(32, (3,3), input_shape = (32,32,3), activation = 'relu', padding = 'same', kernel_constraint = maxnorm(3)))\n",
    "model.add(MaxPooling2D(pool_size = (2,2)))\n",
    "model.add(Flatten())\n",
    "model.add(Dense(512, activation = 'relu', kernel_constraint = maxnorm(3)))\n",
    "model.add(Dropout(0.5))\n",
    "model.add(Dense(10, activation = 'softmax'))\n",
    "\n",
    "model.compile(loss = 'categorical_crossentropy', optimizer = SGD(lr = 0.01), metrics = ['accuracy'])\n",
    "\n",
    "model.fit(new_X_train, new_y_train, epochs = 10, batch_size = 32)"
   ]
  },
  {
   "cell_type": "code",
   "execution_count": 59,
   "metadata": {},
   "outputs": [],
   "source": [
    "model.save('trained_model.h5')"
   ]
  }
 ],
 "metadata": {
  "kernelspec": {
   "display_name": "Python 3",
   "language": "python",
   "name": "python3"
  },
  "language_info": {
   "codemirror_mode": {
    "name": "ipython",
    "version": 3
   },
   "file_extension": ".py",
   "mimetype": "text/x-python",
   "name": "python",
   "nbconvert_exporter": "python",
   "pygments_lexer": "ipython3",
   "version": "3.7.4"
  }
 },
 "nbformat": 4,
 "nbformat_minor": 2
}
