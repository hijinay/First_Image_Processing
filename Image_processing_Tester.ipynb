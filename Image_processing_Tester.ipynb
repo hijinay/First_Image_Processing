{
 "cells": [
  {
   "cell_type": "code",
   "execution_count": null,
   "metadata": {},
   "outputs": [],
   "source": [
    "from PIL import Image\n",
    "import numpy as np\n",
    "from keras.models import load_model\n",
    "\n",
    "labels = ['aeroplane', 'automobile', 'bird', 'cat', 'deer', 'dog',\n",
    "          'Frog', 'horse', 'ship', 'truck']\n",
    "\n",
    "model = load_model('trained_model.h5')"
   ]
  },
  {
   "cell_type": "code",
   "execution_count": null,
   "metadata": {},
   "outputs": [],
   "source": [
    "input_path = input('path of image: ')\n",
    "input_image = Image.open(input_path)\n",
    "input_image = input_image.resize((32,32), resample = Image.LANCZOS)\n",
    "image_array = np.array(input_image)\n",
    "image_array = image_array.astype('float32')\n",
    "image_array /= 255.0\n",
    "image_array = image_array.reshape(1,32,32,3)\n",
    "answer = model.predict(image_array)\n",
    "input_image.show()\n",
    "print(labels[np.argmax(answer)])"
   ]
  },
  {
   "cell_type": "code",
   "execution_count": null,
   "metadata": {},
   "outputs": [],
   "source": []
  },
  {
   "cell_type": "code",
   "execution_count": null,
   "metadata": {},
   "outputs": [],
   "source": []
  }
 ],
 "metadata": {
  "kernelspec": {
   "display_name": "Python 3",
   "language": "python",
   "name": "python3"
  },
  "language_info": {
   "codemirror_mode": {
    "name": "ipython",
    "version": 3
   },
   "file_extension": ".py",
   "mimetype": "text/x-python",
   "name": "python",
   "nbconvert_exporter": "python",
   "pygments_lexer": "ipython3",
   "version": "3.7.4"
  }
 },
 "nbformat": 4,
 "nbformat_minor": 2
}
